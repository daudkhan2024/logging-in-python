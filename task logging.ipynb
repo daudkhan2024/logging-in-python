{
 "cells": [
  {
   "cell_type": "markdown",
   "id": "e0eeee40",
   "metadata": {},
   "source": [
    "#+ task: creat a logging file\n",
    "    + give level\n",
    "    +creat function wheich can take any number of input as argument \n",
    "    +and it will return you sum\n",
    "+caputre all logs\n"
   ]
  },
  {
   "cell_type": "code",
   "execution_count": 1,
   "id": "642bd765",
   "metadata": {},
   "outputs": [],
   "source": [
    "import logging as lg"
   ]
  },
  {
   "cell_type": "code",
   "execution_count": 2,
   "id": "be7a79b0",
   "metadata": {},
   "outputs": [],
   "source": [
    "import os"
   ]
  },
  {
   "cell_type": "code",
   "execution_count": 3,
   "id": "4042b7bc",
   "metadata": {},
   "outputs": [],
   "source": [
    "os.mkdir(\"log\")"
   ]
  },
  {
   "cell_type": "code",
   "execution_count": 4,
   "id": "8ab499db",
   "metadata": {},
   "outputs": [],
   "source": [
    "os.chdir(os.getcwd()+ \"/\"+\"log\")"
   ]
  },
  {
   "cell_type": "code",
   "execution_count": 5,
   "id": "0e4ccda1",
   "metadata": {},
   "outputs": [
    {
     "data": {
      "text/plain": [
       "'/Users/daudkhan/log'"
      ]
     },
     "execution_count": 5,
     "metadata": {},
     "output_type": "execute_result"
    }
   ],
   "source": [
    "pwd"
   ]
  },
  {
   "cell_type": "code",
   "execution_count": 6,
   "id": "b7375607",
   "metadata": {},
   "outputs": [],
   "source": [
    "lg.basicConfig(filename = 'khan.log',level = lg.INFO)\n"
   ]
  },
  {
   "cell_type": "code",
   "execution_count": 7,
   "id": "12125400",
   "metadata": {},
   "outputs": [
    {
     "data": {
      "text/plain": [
       "10"
      ]
     },
     "execution_count": 7,
     "metadata": {},
     "output_type": "execute_result"
    }
   ],
   "source": [
    "def addition(*args):\n",
    "    lg.info(\"this is my addition function\")\n",
    "    sum1=0\n",
    "    for i in args:\n",
    "        lg.info(str(i))\n",
    "        sum1=sum1+i\n",
    "    return sum1\n",
    "addition(1,2,3,4)"
   ]
  },
  {
   "cell_type": "code",
   "execution_count": 8,
   "id": "17dc99d6",
   "metadata": {},
   "outputs": [
    {
     "name": "stdout",
     "output_type": "stream",
     "text": [
      "INFO:root:this is my addition function\n",
      "INFO:root:1\n",
      "INFO:root:2\n",
      "INFO:root:3\n",
      "INFO:root:4\n",
      "\n"
     ]
    }
   ],
   "source": [
    "f = open(\"khan.log\",\"r\")\n",
    "print(f.read())"
   ]
  }
 ],
 "metadata": {
  "kernelspec": {
   "display_name": "Python 3 (ipykernel)",
   "language": "python",
   "name": "python3"
  },
  "language_info": {
   "codemirror_mode": {
    "name": "ipython",
    "version": 3
   },
   "file_extension": ".py",
   "mimetype": "text/x-python",
   "name": "python",
   "nbconvert_exporter": "python",
   "pygments_lexer": "ipython3",
   "version": "3.9.12"
  }
 },
 "nbformat": 4,
 "nbformat_minor": 5
}
